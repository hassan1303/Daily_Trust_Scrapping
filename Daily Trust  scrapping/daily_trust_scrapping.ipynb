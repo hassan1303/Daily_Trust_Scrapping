{
 "cells": [
  {
   "attachments": {},
   "cell_type": "markdown",
   "metadata": {},
   "source": [
    "# Web scrapping "
   ]
  },
  {
   "attachments": {},
   "cell_type": "markdown",
   "metadata": {},
   "source": [
    "## Daily trust"
   ]
  },
  {
   "cell_type": "code",
   "execution_count": 1,
   "metadata": {},
   "outputs": [
    {
     "name": "stdout",
     "output_type": "stream",
     "text": [
      "200\n"
     ]
    }
   ],
   "source": [
    "import requests\n",
    "from bs4 import BeautifulSoup\n",
    "url = 'https://dailytrust.com/87-days-to-go-buhari-races-to-complete-legacy-projects/'\n",
    "\n",
    "# Lets use the requests get method to fetch the data from url\n",
    "\n",
    "response = requests.get(url)\n",
    "# lets check the status\n",
    "status = response.status_code\n",
    "print(status) # 200 means the fetching was successful"
   ]
  },
  {
   "cell_type": "code",
   "execution_count": 5,
   "metadata": {},
   "outputs": [
    {
     "name": "stdout",
     "output_type": "stream",
     "text": [
      "<title>87 days to go: Buhari races to complete legacy projects - Daily Trust</title>\n",
      "Less than three months to hand over the baton of leadership to the winner of the February 25, 2023, presidential election, President Muhammadu Buhari is…\n",
      "The president had already inaugurated some of his legacy projects like the second Niger bridge, Abuja-Kaduna standard gauge rail, Lagos-Ibadan standard gauge rail and Itakpe-Warri standard gauge rail, among others.\n",
      "But President Buhari still has some projects that are yet to be delivered, even as some of them are at advanced stages.\n",
      "Among them are the proposed national carrier, Nigeria Air; Lagos-Ibadan expressway, Zungeru hydroelectric power plant, Port Harcourt refineries, Abuja-Kaduna-Zaria-Kano expressway.\n",
      "Nigeria Air\n",
      "One of the key projects which President Buhari is yet to fully launch in spite of aggressive steps being taken to ensure its fruition is the plan to have a national carrier named Nigeria Air.\n",
      "The two issues said to be stalling the takeoff of the national carrier is the legal tussle and the insistence of Ethiopian Airlines, which last year emerged as the preferred bidder for Nigeria Air, on having an Ethiopian as the pioneer managing director of the airline.\n",
      "The federal government has already appointed Captain Dapo Olumide as an interim managing director.\n",
      "The fresh condition and a pending suit filed by the Airline Operators of Nigeria (AON), which is yet to be resolved are responsible for the current situation.\n",
      "The domestic airline operators challenged the equity structure of the airline, which ceded 49 per cent stake to Ethiopian Airlines, with the federal government having only 5 per cent, while the remaining 46 per cent is for Nigerian investors.\n",
      "On February 19, the president had met with Girma Wake, Ethiopian Airlines Board chairman, during which they exchanged views on the operationalisation of Nigeria Air.\n",
      "Wake had at the meeting in Addis Ababa requested a resolution of the legal obstacles, assuring that on the part, they were ready.\n",
      "President Buhari told the board chairman that it was a ‘weighty decision’ by the Nigerian government to re-launch a national carrier, expressing confidence that “things will be alright.”\n",
      "The Minister of Aviation, Senator Hadi Sirika, had on November 24 2021, said the country’s national airliner was expected to take off by April 2022. This pledge was, however, not fulfilled, just as the initial promise to do so before the end of 2018 because of President Buhari’s electioneering vow to establish a national airline.\n",
      "Kano-Katsina-Jibiya-Maradi rail line\n",
      "Another unfinished signature project of the current administration is the $1.96billion Kano-Katsina-Jibiya-Maradi rail line, which virtual groundbreaking ceremony was performed by President Buhari on February 9, 2021.\n",
      "The plan for the construction of the 284km Kano-Maradi rail line linking Nigeria to the neighbouring Niger Republic is to boost the Lagos-Kano-Jibiya economic corridor, which both the World Bank and the United States have been highlighting.\n",
      "Niger Republic depends on Lagos ports for most containers heading to the country, and due to the absence of a rail line, containers take up to two weeks from Lagos to Niger and vice-versa by road.\n",
      "Daily Trust Saturday learnt that as far back as 2013, the federal government, through the Ministry of Transportation, commissioned a feasibility study to construct a standard gauge rail line from Kano to Maradi in Niger.\n",
      "In 2015 when President Buhari assumed office, the former Minister of Transportation, Rotimi Amaechi inherited the feasibility studies and found them to be economically viable.\n",
      "By September 2020, the government had approved the contract for the line linking Kano-Katsina-Jibia, Dutse and Maradi in Niger Republic for a total cost of $1,959,744,723.71, inclusive of 7.5 per cent VAT.\n",
      "President Buhari flagged off the project because he wanted it completed before leaving office in May 2023.\n",
      "The Kano-Maradi rail has a 36-month completion period, while the target is to connect both tracks to allow freight movement from Lagos to Maradi in the Niger Republic.\n",
      "Although the CCECC has been handling the standard gauge projects across the country, the funding for the Maradi rail line is being sourced from the European Export Credit Agencies and Development Finance Institutions with a Portuguese company, Mota-Engil, constructing the rail line.\n",
      "Amaechi explained that the project has a 25Km extension into the Niger Republic and it involves the construction of a single-track standard gauge rail line with an alignment of approximately 284Km traversing Kano–Dambatta–Kazaure–Shargelle–Mashi–Daura–Katsina–Jibiya–Maradi and a 94Km branch line from Kano to Dutse, the capital of Jigawa State.\n",
      "“The entire network of this project has 15 railway stations of different categories, with major stations of approximately 3,000 peak passenger capacity in the cities of Kano and Katsina and stations of standard category in Kazaure, Daura, Jibiya and Dutse and minor stations in Dambatta, Shargelle and Mashi, as well as halt stations in Kunya, Kano airport, Muduru, Dadara and in Niger Republic at Annol Mata and Maradi.”\n",
      " Zungeru hydroelectric power plant\n",
      "On the list of major projects yet to be completed is the 700 megawatts Zungeru hydroelectric power station in Niger State.\n",
      "The Minister of Power, Abubakar Aliyu, had in March last year said the challenge of insecurity and COVID-19 stalled the commissioning of the project expected to have been done in either December 2021 or January 2022. COVID restrictions have been lifted for long but the project is still in the pipeline.\n",
      "Last month, the minister had said in Kano that the construction of the Zungeru hydroelectric power plant project is almost completed.\n",
      "The federal government had initially set December 2021 for the completion and commissioning of the project, which is expected to be the second largest hydroelectric power station in the country, behind the 760 megawatts (1,020,000 hp), Kainji hydroelectric project.\n",
      "On February 21, the National Council on Privatisation (NCP) had approved Mainstream Energy Solutions Limited (MESL) as the preferred bidder for the concession of the Zungeru hydroelectric power plant for a fee of $70,000.25 annually for 30 years.\n",
      "Lagos-Ibadan expressway\n",
      "The much talked about 127.6-kilometre Lagos–Ibadan expressway is equally among the signature projects of the Muhammadu Buhari administration, which is yet to be completed.\n",
      "In July last year, the Minister of Works and Housing, Babatunde Fashola, had said only 21km of the road was left to be completed with expectation that it would be delivered by December 2022, before Christmas.\n",
      "He had said that part of the road in Lagos, which is being handled by Julius Berger Nigeria Plc, had about 6km left to be completed, while the Ibadan part of the road, which is being handled by the Reynolds Construction Company (Nigeria) Limited, had 15km left to be completed.\n",
      "Late last year, the federal government had shifted the completion date of the road from December to 2023.\n",
      "The director (South West), Federal Ministry of Works and Housing, Adedamola Kuti, said the date had been shifted due to some unforeseen circumstances like rain and prices of materials but added that there were plans to complete the construction work before the end of first quarter of this year.\n",
      "President Buhari had on October 11, 2021, assured Nigerians that the N310billion Lagos-Ibadan expressway and other key projects under the Presidential Infrastructure Development Fund (PIDF) would be completed within the second term of this administration.\n",
      "Recall that the reconstruction of the expressway was flagged off in July 2013 by former President Goodluck Jonathan to help reduce the travel time of hundreds of thousands of commuters and international air passengers.\n",
      "\n",
      " \n",
      "Port Harcourt refinery\n",
      "Another project being expected to be completed by the present administration is the rehabilitation work at the multi billion naira Port Harcourt refinery.\n",
      "The drive to boost in-country refining capacity was bolstered in April 2021  with the signing of the Engineering, Procurement, Construction, Installation and Commissioning (EPCIC) contract for the rehabilitation of the 210,000 barrels per day capacity Port Harcourt refinery in Alesa-Eleme, Rivers State.\n",
      "The rehabilitation project, which has a completion timeline of between 18 and 44 months under a three-phase arrangement, was awarded to Milan-based Tecnimont SpA at a lump sum contract price of US$1.5billion, inclusive of VAT and other statutory payments.\n",
      "On August 4, 2021, the Minister of State, Petroleum Resources, Timipre Sylva, announced that the first 15 per cent of the contract sum for Port Harcourt Refinery had been paid to the contractor and the contract was fully mobilised to the site.\n",
      "In January this year, Sylva had said the rehabilitation of the 60,000 bpd refinery was being completed to be started by Q1 2023 as promised while giving an update on the Port Harcourt refineries during the Ministry of Petroleum Resources 2022 scorecard in Abuja.\n",
      "A top official in the ministry said work on the second 150,000bpd refinery in Port Harcourt would be completed later.\n",
      "Abuja-Kaduna-Zaria-Kano expressway\n",
      "This contract awarded by the federal government for the reconstruction of Abuja- Kaduna-Zaria-Kano expressway in 2021, which is still ongoing, is expected to be completed in the second quarter of 2023.\n",
      "As at January 2022, the project had reached an appreciable advancement on Kaduna-Zaria expressway as most portions of the road covering several kilometres have been asphalted.\n",
      "The federal controller of works in Kaduna State, Zira Finbarr, an engineer, had said the main carriage work of the Kaduna-Zaria expressway would be completed by June 2022, while other auxiliary works would hopefully be finalised by the end of 2022.\n",
      "He said the auxiliary works included construction of footbridges for pedestrian crossing, provision of ‘service links’ which means third lane in towns like Zaria and trailer parks to avert gridlock on the road.\n",
      "Works and Housing Minster Fashola had said the road would be reconstructed instead of the initial plan for renovation, thereby changing the existing cost of the project from N155billion to N797.2billion.\n",
      "He had set the target of quarter four of 2022 for the first phase of 74km Kaduna-Zaria section, adding, “The next phase B, the Zaria-Kano section, which is 137 kilometres, should be quarter one of 2023. And the last phase will be the Abuja-Kaduna section, which should be in quarter two of 2023.”\n",
      "However, the Minister of State, Housing and Works, Umar El-Yakub, had said in December last year that reconstruction work on the first phase of the Abuja-Kaduna-Zaria-Kano highway would be completed by the first quarter of 2023 while speaking in Kano at the opening of the 43rd International Trade Fair organised by the state Chamber of Commerce, Industry, Mines and Agriculture.\n",
      "Projects delivered by Buhari administration\n",
      "Abuja- Kaduna rail\n",
      "A key project commissioned by the Buhari administration is the Abuja- Kaduna rail, which is part of the proposed Lagos-Kano standard gauge railway modernisation projects (SGRMP) awarded to China Civil Engineering and Construction Co (CCECC), is being funded with a soft loan from China.\n",
      "The Abuja-Kaduna standard rail gauge project, which is the first phase, was conceptualised by the administration of Chief Olusegun Obasanjo in 2006 but was awarded in December 2010.\n",
      "The actual execution of the project started in 2009 under the administration of Dr Goodluck Ebele Jonathan who left office in 2015. But President Buhari took over the project, which was at an advanced stage before the end of the Jonathan administration. He commissioned the 187km standard gauge line between Kaduna and Abuja with 10 stations for both passenger and cargo trains on July 26, 2016.\n",
      "Lagos–Ibadan standard rail gauge project\n",
      "Another feat of the present administration was the commissioning of the 156km Lagos-Ibadan standard gauge rail line for commercial operations in June 2021 by the president within a Nigerian record time of four years (2017 to 2021).\n",
      "President Buhari had, on Thursday, June 10, 2021, inaugurated the Lagos-Ibadan railway project for commercial operations at the Mobolaji Johnson Railway Station, Ebute Metta, Lagos.\n",
      "He had described the feat “as another milestone in the drive of this administration to revitalise the railway system and establish it as a choice mode of transportation for both passengers and freight.”\n",
      "The president, while speaking on the benefits of the Lagos-Ibadan corridor as well as other ongoing railway projects across the country, said, “This vital line establishes an end-to-end logistic supply chain in railway transport within its short corridor, Lagos–Ibadan as goods to the hinterland would now be transported by rail directly from the Apapa port Quayside straight to the Inland Container Depot located in Ibadan, from where it can be distributed to other parts of the country.”\n",
      "327km Itakpe-Warri standard gauge rail completed\n",
      "The 327km Itakpe-Warri standard gauge rail was completed and commissioned in 2020, 33 years after construction began by the Buhari administration.\n",
      "The president, precisely in September 2020, virtually inaugurated the Warri-Itapke standard gauge passenger train service. The rail line was designed for the transportation of iron ore from Itakpe to Ajaokuta and Aladja steel rolling mills in Delta.\n",
      "A former transportation minister, Amaechi, while speaking during the inauguration,  said the project was fully funded by the Nigerian government, adding that eight of the 10 stations were in the Niger-Delta/South South region of the country.\n",
      "“There is no loan on this project, it was funded from the budget and I had the directive of the president to go and revive and complete it as soon as possible,” he said.\n",
      "He said the project started under the military era in 1987 but “underwent protracted hiccups, prolonged abandonment and massive vandalisation,” before it was resuscitated by the Buhari administration.\n",
      "New Abuja, Lagos, Port Harcourt airport terminals\n",
      "The president had on December 20, 2018 commissioned a new terminal building at the Nnamdi Azikiwe International Airport, Abuja.\n",
      "The new terminal building was constructed by a Chinese firm, CCECC with funding from the China Export Import Bank.\n",
      "He said the Nnamdi Azikiwe International Airport terminal was the first airport terminal to be connected to rail transport system in the country.\n",
      "The Minister of Aviation, Sirika said new terminal was the second in the series of airport terminals to be commissioned from the projects funded by the China-Exim Bank loan of $500m with a counterpart funding of $100m from Nigeria’s debt management office.\n",
      "He said the terminal had an annual passenger capacity of 15million covering a space of approximately 56,000m2.\n",
      "He said it also had 72 check-in counters, five baggage collection carousels, 28 immigration desks at arrival and 16 at departure.\n",
      "On March 22, 2022, the president commissioned the much talked about terminal building of the Murtala Muhammed International Airport, Lagos.\n",
      "The contract for the terminal building was initiated during the tenure of Stella Oduah as the aviation minister under the Jonathan government with the involvement of the Chinese government.\n",
      "The terminal building has the capacity to process 14million passengers per annum, 66nos of check-in counters, 5nos of baggage collection carousels, 16nos of immigration desks at arrival, 28nos at desks at departure, 8nos of security screening points and 6nos of passenger boarding bridges with remote boarding and arrival.\n",
      "Similarly, President Buhari had on October 25, 2018 commissioned the N216billion new terminal at the Port Harcourt International Airport, Omagwa, Rivers State funded by the Export-Import Bank of China and the Nigerian government.\n",
      "The terminal was constructed by CCECC, which equally built new terminals in Abuja, Kano and Lagos international airports.\n",
      "Aviation Minister Hadi Sirika said the project commenced in February 2014 along with three other airports in Lagos, Abuja and Kano.\n",
      "Sirika said although the expected time for the completion of the project was two years, work was below 30 per cent as at the time the Buhari-led administration came on board in 2015 due to technical challenges.\n",
      "“The project is funded through China Exim Bank loan of $500million with another $100million counterpart fund from the government of Nigeria,” he said.\n",
      "CSOs react, want projects executed as envisioned  \n",
      "Reacting to the information on the fate of the uncompleted projects, the civil society organisations (CSOs) tasked the Bureau of Public Procurement (BPE) to ensure the contracts were executed in compliance with the terms of agreement.\n",
      "Awwal Musa Rafsanjani, the executive director at the Civil Society Legislative Advocacy Centre (CISLAC) said, “We’re supposed to have a work schedule and plan. Contractors are supposed to carry out those works according to public procurement law as agreed with the contractors. I expect that all those contractual terms should be respected and agreed so that contractors will be able to carry out their works as it is.\n",
      "“We will want Bureau of Public Procurement to ensure that there is a compliance with the terms of reference as agreed between the contractors and the Nigerian government.\n",
      "“So, the contractors should be made to comply with terms of agreement because there was an agreement.”\n",
      "Tunde Salman, the convener, Good Governance Team (GGT) Nigeria, stressed the need for government to give priority to the completion of the ongoing key projects by the outgoing government.\n",
      "He said, “There is a need to fast-track and prioritise the completion of ongoing key projects by the outgoing government. One good legacy the present administration would be leaving behind is projects continuity that should not be much of a problem with another APC-led federal government.”\n"
     ]
    }
   ],
   "source": [
    "import requests\n",
    "from bs4 import BeautifulSoup\n",
    "url = 'https://dailytrust.com/87-days-to-go-buhari-races-to-complete-legacy-projects/'\n",
    "\n",
    "response = requests.get(url)\n",
    "content = response.content # we get all the content from the website\n",
    "soup = BeautifulSoup(content, 'html.parser') # beautiful soup will give a chance to parse\n",
    "print(soup.title) # <title>UCI Machine Learning Repository: Data Sets</title>\n",
    "\n",
    "paragraphs = soup.find_all('p')\n",
    "for paragraph in paragraphs:\n",
    "    print(paragraph.get_text())\n",
    "\n"
   ]
  },
  {
   "cell_type": "code",
   "execution_count": 6,
   "metadata": {},
   "outputs": [
    {
     "name": "stdout",
     "output_type": "stream",
     "text": [
      "200\n"
     ]
    }
   ],
   "source": [
    "import requests\n",
    "from bs4 import BeautifulSoup\n",
    "url = 'https://dailytrust.com/does-tinubu-have-what-it-takes-to-rule-nigeria/'\n",
    "\n",
    "# Lets use the requests get method to fetch the data from url\n",
    "\n",
    "response = requests.get(url)\n",
    "# lets check the status\n",
    "status = response.status_code\n",
    "print(status) # 200 means the fetching was successful"
   ]
  },
  {
   "cell_type": "code",
   "execution_count": 7,
   "metadata": {},
   "outputs": [
    {
     "name": "stdout",
     "output_type": "stream",
     "text": [
      "<title>THE BEARING: Does Tinubu Have What It Takes To Rule Nigeria? - Daily Trust</title>\n",
      "Download Here     Asiwaju Bola Ahmed Tinubu, will soon be taking over the seat of president from Muhammadu Buhari as Nigeria’s next president. THE…\n",
      "Download Here\n",
      " \n",
      " \n",
      "Asiwaju Bola Ahmed Tinubu, will soon be taking over the seat of president from Muhammadu Buhari as Nigeria’s next president.\n",
      "THE BEARING: What First Time Voters Should Do On Election Day\n",
      "NIGERIA DAILY: Reasons For Low Voter Turnout In Elections\n",
      " \n",
      "Chairman of the Independent National Electoral Commission (INEC) declared him the president elect of the Federal Republic of Nigeria.\n",
      "In this episode of Our weekly podcast, The Bearing, we ask if the President elect, Bola Ahmed Tinubu truly has what it takes to rule Nigeria.\n"
     ]
    }
   ],
   "source": [
    "import requests\n",
    "from bs4 import BeautifulSoup\n",
    "url = 'https://dailytrust.com/does-tinubu-have-what-it-takes-to-rule-nigeria/'\n",
    "\n",
    "response = requests.get(url)\n",
    "content = response.content # we get all the content from the website\n",
    "soup = BeautifulSoup(content, 'html.parser') # beautiful soup will give a chance to parse\n",
    "print(soup.title) # <title>UCI Machine Learning Repository: Data Sets</title>\n",
    "\n",
    "paragraphs = soup.find_all('p')\n",
    "for paragraph in paragraphs:\n",
    "    print(paragraph.get_text())"
   ]
  }
 ],
 "metadata": {
  "kernelspec": {
   "display_name": "Python 3",
   "language": "python",
   "name": "python3"
  },
  "language_info": {
   "codemirror_mode": {
    "name": "ipython",
    "version": 3
   },
   "file_extension": ".py",
   "mimetype": "text/x-python",
   "name": "python",
   "nbconvert_exporter": "python",
   "pygments_lexer": "ipython3",
   "version": "3.10.4"
  },
  "orig_nbformat": 4
 },
 "nbformat": 4,
 "nbformat_minor": 2
}
